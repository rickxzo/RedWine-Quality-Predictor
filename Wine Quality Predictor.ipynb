{
 "cells": [
  {
   "cell_type": "raw",
   "id": "dc0eb413-aa15-4e13-b852-41650b19413b",
   "metadata": {},
   "source": [
    "GOAL: To predict the quality of Wine based on certain parameters.\n",
    "Data Source: Red Wine Quality Dataset - Kaggle ( https://www.kaggle.com/datasets/uciml/red-wine-quality-cortez-et-al-2009 )"
   ]
  },
  {
   "cell_type": "raw",
   "id": "154eb119-d598-4a1e-913f-f78e5afa670a",
   "metadata": {},
   "source": [
    "We start by importing the data. { Required Library: Pandas }"
   ]
  },
  {
   "cell_type": "code",
   "execution_count": 1,
   "id": "81eff46b-b959-4561-819d-c8f3d7917050",
   "metadata": {},
   "outputs": [
    {
     "data": {
      "text/html": [
       "<div>\n",
       "<style scoped>\n",
       "    .dataframe tbody tr th:only-of-type {\n",
       "        vertical-align: middle;\n",
       "    }\n",
       "\n",
       "    .dataframe tbody tr th {\n",
       "        vertical-align: top;\n",
       "    }\n",
       "\n",
       "    .dataframe thead th {\n",
       "        text-align: right;\n",
       "    }\n",
       "</style>\n",
       "<table border=\"1\" class=\"dataframe\">\n",
       "  <thead>\n",
       "    <tr style=\"text-align: right;\">\n",
       "      <th></th>\n",
       "      <th>fixed acidity</th>\n",
       "      <th>volatile acidity</th>\n",
       "      <th>citric acid</th>\n",
       "      <th>residual sugar</th>\n",
       "      <th>chlorides</th>\n",
       "      <th>free sulfur dioxide</th>\n",
       "      <th>total sulfur dioxide</th>\n",
       "      <th>density</th>\n",
       "      <th>pH</th>\n",
       "      <th>sulphates</th>\n",
       "      <th>alcohol</th>\n",
       "      <th>quality</th>\n",
       "    </tr>\n",
       "  </thead>\n",
       "  <tbody>\n",
       "    <tr>\n",
       "      <th>0</th>\n",
       "      <td>7.4</td>\n",
       "      <td>0.70</td>\n",
       "      <td>0.00</td>\n",
       "      <td>1.9</td>\n",
       "      <td>0.076</td>\n",
       "      <td>11.0</td>\n",
       "      <td>34.0</td>\n",
       "      <td>0.9978</td>\n",
       "      <td>3.51</td>\n",
       "      <td>0.56</td>\n",
       "      <td>9.4</td>\n",
       "      <td>5</td>\n",
       "    </tr>\n",
       "    <tr>\n",
       "      <th>1</th>\n",
       "      <td>7.8</td>\n",
       "      <td>0.88</td>\n",
       "      <td>0.00</td>\n",
       "      <td>2.6</td>\n",
       "      <td>0.098</td>\n",
       "      <td>25.0</td>\n",
       "      <td>67.0</td>\n",
       "      <td>0.9968</td>\n",
       "      <td>3.20</td>\n",
       "      <td>0.68</td>\n",
       "      <td>9.8</td>\n",
       "      <td>5</td>\n",
       "    </tr>\n",
       "    <tr>\n",
       "      <th>2</th>\n",
       "      <td>7.8</td>\n",
       "      <td>0.76</td>\n",
       "      <td>0.04</td>\n",
       "      <td>2.3</td>\n",
       "      <td>0.092</td>\n",
       "      <td>15.0</td>\n",
       "      <td>54.0</td>\n",
       "      <td>0.9970</td>\n",
       "      <td>3.26</td>\n",
       "      <td>0.65</td>\n",
       "      <td>9.8</td>\n",
       "      <td>5</td>\n",
       "    </tr>\n",
       "    <tr>\n",
       "      <th>3</th>\n",
       "      <td>11.2</td>\n",
       "      <td>0.28</td>\n",
       "      <td>0.56</td>\n",
       "      <td>1.9</td>\n",
       "      <td>0.075</td>\n",
       "      <td>17.0</td>\n",
       "      <td>60.0</td>\n",
       "      <td>0.9980</td>\n",
       "      <td>3.16</td>\n",
       "      <td>0.58</td>\n",
       "      <td>9.8</td>\n",
       "      <td>6</td>\n",
       "    </tr>\n",
       "    <tr>\n",
       "      <th>4</th>\n",
       "      <td>7.4</td>\n",
       "      <td>0.70</td>\n",
       "      <td>0.00</td>\n",
       "      <td>1.9</td>\n",
       "      <td>0.076</td>\n",
       "      <td>11.0</td>\n",
       "      <td>34.0</td>\n",
       "      <td>0.9978</td>\n",
       "      <td>3.51</td>\n",
       "      <td>0.56</td>\n",
       "      <td>9.4</td>\n",
       "      <td>5</td>\n",
       "    </tr>\n",
       "  </tbody>\n",
       "</table>\n",
       "</div>"
      ],
      "text/plain": [
       "   fixed acidity  volatile acidity  citric acid  residual sugar  chlorides  \\\n",
       "0            7.4              0.70         0.00             1.9      0.076   \n",
       "1            7.8              0.88         0.00             2.6      0.098   \n",
       "2            7.8              0.76         0.04             2.3      0.092   \n",
       "3           11.2              0.28         0.56             1.9      0.075   \n",
       "4            7.4              0.70         0.00             1.9      0.076   \n",
       "\n",
       "   free sulfur dioxide  total sulfur dioxide  density    pH  sulphates  \\\n",
       "0                 11.0                  34.0   0.9978  3.51       0.56   \n",
       "1                 25.0                  67.0   0.9968  3.20       0.68   \n",
       "2                 15.0                  54.0   0.9970  3.26       0.65   \n",
       "3                 17.0                  60.0   0.9980  3.16       0.58   \n",
       "4                 11.0                  34.0   0.9978  3.51       0.56   \n",
       "\n",
       "   alcohol  quality  \n",
       "0      9.4        5  \n",
       "1      9.8        5  \n",
       "2      9.8        5  \n",
       "3      9.8        6  \n",
       "4      9.4        5  "
      ]
     },
     "execution_count": 1,
     "metadata": {},
     "output_type": "execute_result"
    }
   ],
   "source": [
    "import pandas as pd\n",
    "data = pd.read_csv(r\"C:\\Users\\goura\\Desktop\\Data Science\\Datasets\\red-wine.csv\")\n",
    "data.head()"
   ]
  },
  {
   "cell_type": "raw",
   "id": "cc585aeb-01a2-4ed3-9229-dad4da1917b8",
   "metadata": {},
   "source": [
    "Lets get some info on the table."
   ]
  },
  {
   "cell_type": "code",
   "execution_count": 2,
   "id": "3c60d6d8-a8d4-487e-a68d-3c9b19c30e6a",
   "metadata": {},
   "outputs": [
    {
     "data": {
      "text/plain": [
       "Index(['fixed acidity', 'volatile acidity', 'citric acid', 'residual sugar',\n",
       "       'chlorides', 'free sulfur dioxide', 'total sulfur dioxide', 'density',\n",
       "       'pH', 'sulphates', 'alcohol', 'quality'],\n",
       "      dtype='object')"
      ]
     },
     "execution_count": 2,
     "metadata": {},
     "output_type": "execute_result"
    }
   ],
   "source": [
    "data.columns"
   ]
  },
  {
   "cell_type": "code",
   "execution_count": 3,
   "id": "3b830827-8a9d-4760-9822-9c0581d0a056",
   "metadata": {},
   "outputs": [
    {
     "data": {
      "text/html": [
       "<div>\n",
       "<style scoped>\n",
       "    .dataframe tbody tr th:only-of-type {\n",
       "        vertical-align: middle;\n",
       "    }\n",
       "\n",
       "    .dataframe tbody tr th {\n",
       "        vertical-align: top;\n",
       "    }\n",
       "\n",
       "    .dataframe thead th {\n",
       "        text-align: right;\n",
       "    }\n",
       "</style>\n",
       "<table border=\"1\" class=\"dataframe\">\n",
       "  <thead>\n",
       "    <tr style=\"text-align: right;\">\n",
       "      <th></th>\n",
       "      <th>fixed acidity</th>\n",
       "      <th>volatile acidity</th>\n",
       "      <th>citric acid</th>\n",
       "      <th>residual sugar</th>\n",
       "      <th>chlorides</th>\n",
       "      <th>free sulfur dioxide</th>\n",
       "      <th>total sulfur dioxide</th>\n",
       "      <th>density</th>\n",
       "      <th>pH</th>\n",
       "      <th>sulphates</th>\n",
       "      <th>alcohol</th>\n",
       "      <th>quality</th>\n",
       "    </tr>\n",
       "  </thead>\n",
       "  <tbody>\n",
       "    <tr>\n",
       "      <th>count</th>\n",
       "      <td>1599.000000</td>\n",
       "      <td>1599.000000</td>\n",
       "      <td>1599.000000</td>\n",
       "      <td>1599.000000</td>\n",
       "      <td>1599.000000</td>\n",
       "      <td>1599.000000</td>\n",
       "      <td>1599.000000</td>\n",
       "      <td>1599.000000</td>\n",
       "      <td>1599.000000</td>\n",
       "      <td>1599.000000</td>\n",
       "      <td>1599.000000</td>\n",
       "      <td>1599.000000</td>\n",
       "    </tr>\n",
       "    <tr>\n",
       "      <th>mean</th>\n",
       "      <td>8.319637</td>\n",
       "      <td>0.527821</td>\n",
       "      <td>0.270976</td>\n",
       "      <td>2.538806</td>\n",
       "      <td>0.087467</td>\n",
       "      <td>15.874922</td>\n",
       "      <td>46.467792</td>\n",
       "      <td>0.996747</td>\n",
       "      <td>3.311113</td>\n",
       "      <td>0.658149</td>\n",
       "      <td>10.422983</td>\n",
       "      <td>5.636023</td>\n",
       "    </tr>\n",
       "    <tr>\n",
       "      <th>std</th>\n",
       "      <td>1.741096</td>\n",
       "      <td>0.179060</td>\n",
       "      <td>0.194801</td>\n",
       "      <td>1.409928</td>\n",
       "      <td>0.047065</td>\n",
       "      <td>10.460157</td>\n",
       "      <td>32.895324</td>\n",
       "      <td>0.001887</td>\n",
       "      <td>0.154386</td>\n",
       "      <td>0.169507</td>\n",
       "      <td>1.065668</td>\n",
       "      <td>0.807569</td>\n",
       "    </tr>\n",
       "    <tr>\n",
       "      <th>min</th>\n",
       "      <td>4.600000</td>\n",
       "      <td>0.120000</td>\n",
       "      <td>0.000000</td>\n",
       "      <td>0.900000</td>\n",
       "      <td>0.012000</td>\n",
       "      <td>1.000000</td>\n",
       "      <td>6.000000</td>\n",
       "      <td>0.990070</td>\n",
       "      <td>2.740000</td>\n",
       "      <td>0.330000</td>\n",
       "      <td>8.400000</td>\n",
       "      <td>3.000000</td>\n",
       "    </tr>\n",
       "    <tr>\n",
       "      <th>25%</th>\n",
       "      <td>7.100000</td>\n",
       "      <td>0.390000</td>\n",
       "      <td>0.090000</td>\n",
       "      <td>1.900000</td>\n",
       "      <td>0.070000</td>\n",
       "      <td>7.000000</td>\n",
       "      <td>22.000000</td>\n",
       "      <td>0.995600</td>\n",
       "      <td>3.210000</td>\n",
       "      <td>0.550000</td>\n",
       "      <td>9.500000</td>\n",
       "      <td>5.000000</td>\n",
       "    </tr>\n",
       "    <tr>\n",
       "      <th>50%</th>\n",
       "      <td>7.900000</td>\n",
       "      <td>0.520000</td>\n",
       "      <td>0.260000</td>\n",
       "      <td>2.200000</td>\n",
       "      <td>0.079000</td>\n",
       "      <td>14.000000</td>\n",
       "      <td>38.000000</td>\n",
       "      <td>0.996750</td>\n",
       "      <td>3.310000</td>\n",
       "      <td>0.620000</td>\n",
       "      <td>10.200000</td>\n",
       "      <td>6.000000</td>\n",
       "    </tr>\n",
       "    <tr>\n",
       "      <th>75%</th>\n",
       "      <td>9.200000</td>\n",
       "      <td>0.640000</td>\n",
       "      <td>0.420000</td>\n",
       "      <td>2.600000</td>\n",
       "      <td>0.090000</td>\n",
       "      <td>21.000000</td>\n",
       "      <td>62.000000</td>\n",
       "      <td>0.997835</td>\n",
       "      <td>3.400000</td>\n",
       "      <td>0.730000</td>\n",
       "      <td>11.100000</td>\n",
       "      <td>6.000000</td>\n",
       "    </tr>\n",
       "    <tr>\n",
       "      <th>max</th>\n",
       "      <td>15.900000</td>\n",
       "      <td>1.580000</td>\n",
       "      <td>1.000000</td>\n",
       "      <td>15.500000</td>\n",
       "      <td>0.611000</td>\n",
       "      <td>72.000000</td>\n",
       "      <td>289.000000</td>\n",
       "      <td>1.003690</td>\n",
       "      <td>4.010000</td>\n",
       "      <td>2.000000</td>\n",
       "      <td>14.900000</td>\n",
       "      <td>8.000000</td>\n",
       "    </tr>\n",
       "  </tbody>\n",
       "</table>\n",
       "</div>"
      ],
      "text/plain": [
       "       fixed acidity  volatile acidity  citric acid  residual sugar  \\\n",
       "count    1599.000000       1599.000000  1599.000000     1599.000000   \n",
       "mean        8.319637          0.527821     0.270976        2.538806   \n",
       "std         1.741096          0.179060     0.194801        1.409928   \n",
       "min         4.600000          0.120000     0.000000        0.900000   \n",
       "25%         7.100000          0.390000     0.090000        1.900000   \n",
       "50%         7.900000          0.520000     0.260000        2.200000   \n",
       "75%         9.200000          0.640000     0.420000        2.600000   \n",
       "max        15.900000          1.580000     1.000000       15.500000   \n",
       "\n",
       "         chlorides  free sulfur dioxide  total sulfur dioxide      density  \\\n",
       "count  1599.000000          1599.000000           1599.000000  1599.000000   \n",
       "mean      0.087467            15.874922             46.467792     0.996747   \n",
       "std       0.047065            10.460157             32.895324     0.001887   \n",
       "min       0.012000             1.000000              6.000000     0.990070   \n",
       "25%       0.070000             7.000000             22.000000     0.995600   \n",
       "50%       0.079000            14.000000             38.000000     0.996750   \n",
       "75%       0.090000            21.000000             62.000000     0.997835   \n",
       "max       0.611000            72.000000            289.000000     1.003690   \n",
       "\n",
       "                pH    sulphates      alcohol      quality  \n",
       "count  1599.000000  1599.000000  1599.000000  1599.000000  \n",
       "mean      3.311113     0.658149    10.422983     5.636023  \n",
       "std       0.154386     0.169507     1.065668     0.807569  \n",
       "min       2.740000     0.330000     8.400000     3.000000  \n",
       "25%       3.210000     0.550000     9.500000     5.000000  \n",
       "50%       3.310000     0.620000    10.200000     6.000000  \n",
       "75%       3.400000     0.730000    11.100000     6.000000  \n",
       "max       4.010000     2.000000    14.900000     8.000000  "
      ]
     },
     "execution_count": 3,
     "metadata": {},
     "output_type": "execute_result"
    }
   ],
   "source": [
    "data.describe()"
   ]
  },
  {
   "cell_type": "code",
   "execution_count": 4,
   "id": "8379e2a7-3883-4fbf-a843-97faceb2d471",
   "metadata": {},
   "outputs": [
    {
     "data": {
      "text/plain": [
       "quality\n",
       "5    681\n",
       "6    638\n",
       "7    199\n",
       "4     53\n",
       "8     18\n",
       "3     10\n",
       "Name: count, dtype: int64"
      ]
     },
     "execution_count": 4,
     "metadata": {},
     "output_type": "execute_result"
    }
   ],
   "source": [
    "data['quality'].value_counts()"
   ]
  },
  {
   "cell_type": "raw",
   "id": "5b0a35cd-fce5-412e-96a4-3fb4c03801ca",
   "metadata": {},
   "source": [
    "We now know about important statistics of all our attributes, as well as the label we want to predict - \"quality\""
   ]
  },
  {
   "cell_type": "raw",
   "id": "59e2a97c-656f-42b8-8799-300adbe0583f",
   "metadata": {},
   "source": [
    "Visualizing the data is important to gain insights about our data\n",
    "For this, we can use\n",
    "-> seaborn\n",
    "-> matplotlib\n",
    "-> pandas.plotting"
   ]
  },
  {
   "cell_type": "raw",
   "id": "bb3fb728-1116-42e6-801f-4da6b4e051d5",
   "metadata": {},
   "source": [
    "An important information about each attribute is the correlation of its to the Label, as well as other attributes."
   ]
  },
  {
   "cell_type": "code",
   "execution_count": 5,
   "id": "34c796be-ea50-4a0d-8b7f-3f264e89272e",
   "metadata": {},
   "outputs": [
    {
     "data": {
      "text/html": [
       "<div>\n",
       "<style scoped>\n",
       "    .dataframe tbody tr th:only-of-type {\n",
       "        vertical-align: middle;\n",
       "    }\n",
       "\n",
       "    .dataframe tbody tr th {\n",
       "        vertical-align: top;\n",
       "    }\n",
       "\n",
       "    .dataframe thead th {\n",
       "        text-align: right;\n",
       "    }\n",
       "</style>\n",
       "<table border=\"1\" class=\"dataframe\">\n",
       "  <thead>\n",
       "    <tr style=\"text-align: right;\">\n",
       "      <th></th>\n",
       "      <th>fixed acidity</th>\n",
       "      <th>volatile acidity</th>\n",
       "      <th>citric acid</th>\n",
       "      <th>residual sugar</th>\n",
       "      <th>chlorides</th>\n",
       "      <th>free sulfur dioxide</th>\n",
       "      <th>total sulfur dioxide</th>\n",
       "      <th>density</th>\n",
       "      <th>pH</th>\n",
       "      <th>sulphates</th>\n",
       "      <th>alcohol</th>\n",
       "      <th>quality</th>\n",
       "    </tr>\n",
       "  </thead>\n",
       "  <tbody>\n",
       "    <tr>\n",
       "      <th>fixed acidity</th>\n",
       "      <td>1.000000</td>\n",
       "      <td>-0.256131</td>\n",
       "      <td>0.671703</td>\n",
       "      <td>0.114777</td>\n",
       "      <td>0.093705</td>\n",
       "      <td>-0.153794</td>\n",
       "      <td>-0.113181</td>\n",
       "      <td>0.668047</td>\n",
       "      <td>-0.682978</td>\n",
       "      <td>0.183006</td>\n",
       "      <td>-0.061668</td>\n",
       "      <td>0.124052</td>\n",
       "    </tr>\n",
       "    <tr>\n",
       "      <th>volatile acidity</th>\n",
       "      <td>-0.256131</td>\n",
       "      <td>1.000000</td>\n",
       "      <td>-0.552496</td>\n",
       "      <td>0.001918</td>\n",
       "      <td>0.061298</td>\n",
       "      <td>-0.010504</td>\n",
       "      <td>0.076470</td>\n",
       "      <td>0.022026</td>\n",
       "      <td>0.234937</td>\n",
       "      <td>-0.260987</td>\n",
       "      <td>-0.202288</td>\n",
       "      <td>-0.390558</td>\n",
       "    </tr>\n",
       "    <tr>\n",
       "      <th>citric acid</th>\n",
       "      <td>0.671703</td>\n",
       "      <td>-0.552496</td>\n",
       "      <td>1.000000</td>\n",
       "      <td>0.143577</td>\n",
       "      <td>0.203823</td>\n",
       "      <td>-0.060978</td>\n",
       "      <td>0.035533</td>\n",
       "      <td>0.364947</td>\n",
       "      <td>-0.541904</td>\n",
       "      <td>0.312770</td>\n",
       "      <td>0.109903</td>\n",
       "      <td>0.226373</td>\n",
       "    </tr>\n",
       "    <tr>\n",
       "      <th>residual sugar</th>\n",
       "      <td>0.114777</td>\n",
       "      <td>0.001918</td>\n",
       "      <td>0.143577</td>\n",
       "      <td>1.000000</td>\n",
       "      <td>0.055610</td>\n",
       "      <td>0.187049</td>\n",
       "      <td>0.203028</td>\n",
       "      <td>0.355283</td>\n",
       "      <td>-0.085652</td>\n",
       "      <td>0.005527</td>\n",
       "      <td>0.042075</td>\n",
       "      <td>0.013732</td>\n",
       "    </tr>\n",
       "    <tr>\n",
       "      <th>chlorides</th>\n",
       "      <td>0.093705</td>\n",
       "      <td>0.061298</td>\n",
       "      <td>0.203823</td>\n",
       "      <td>0.055610</td>\n",
       "      <td>1.000000</td>\n",
       "      <td>0.005562</td>\n",
       "      <td>0.047400</td>\n",
       "      <td>0.200632</td>\n",
       "      <td>-0.265026</td>\n",
       "      <td>0.371260</td>\n",
       "      <td>-0.221141</td>\n",
       "      <td>-0.128907</td>\n",
       "    </tr>\n",
       "    <tr>\n",
       "      <th>free sulfur dioxide</th>\n",
       "      <td>-0.153794</td>\n",
       "      <td>-0.010504</td>\n",
       "      <td>-0.060978</td>\n",
       "      <td>0.187049</td>\n",
       "      <td>0.005562</td>\n",
       "      <td>1.000000</td>\n",
       "      <td>0.667666</td>\n",
       "      <td>-0.021946</td>\n",
       "      <td>0.070377</td>\n",
       "      <td>0.051658</td>\n",
       "      <td>-0.069408</td>\n",
       "      <td>-0.050656</td>\n",
       "    </tr>\n",
       "    <tr>\n",
       "      <th>total sulfur dioxide</th>\n",
       "      <td>-0.113181</td>\n",
       "      <td>0.076470</td>\n",
       "      <td>0.035533</td>\n",
       "      <td>0.203028</td>\n",
       "      <td>0.047400</td>\n",
       "      <td>0.667666</td>\n",
       "      <td>1.000000</td>\n",
       "      <td>0.071269</td>\n",
       "      <td>-0.066495</td>\n",
       "      <td>0.042947</td>\n",
       "      <td>-0.205654</td>\n",
       "      <td>-0.185100</td>\n",
       "    </tr>\n",
       "    <tr>\n",
       "      <th>density</th>\n",
       "      <td>0.668047</td>\n",
       "      <td>0.022026</td>\n",
       "      <td>0.364947</td>\n",
       "      <td>0.355283</td>\n",
       "      <td>0.200632</td>\n",
       "      <td>-0.021946</td>\n",
       "      <td>0.071269</td>\n",
       "      <td>1.000000</td>\n",
       "      <td>-0.341699</td>\n",
       "      <td>0.148506</td>\n",
       "      <td>-0.496180</td>\n",
       "      <td>-0.174919</td>\n",
       "    </tr>\n",
       "    <tr>\n",
       "      <th>pH</th>\n",
       "      <td>-0.682978</td>\n",
       "      <td>0.234937</td>\n",
       "      <td>-0.541904</td>\n",
       "      <td>-0.085652</td>\n",
       "      <td>-0.265026</td>\n",
       "      <td>0.070377</td>\n",
       "      <td>-0.066495</td>\n",
       "      <td>-0.341699</td>\n",
       "      <td>1.000000</td>\n",
       "      <td>-0.196648</td>\n",
       "      <td>0.205633</td>\n",
       "      <td>-0.057731</td>\n",
       "    </tr>\n",
       "    <tr>\n",
       "      <th>sulphates</th>\n",
       "      <td>0.183006</td>\n",
       "      <td>-0.260987</td>\n",
       "      <td>0.312770</td>\n",
       "      <td>0.005527</td>\n",
       "      <td>0.371260</td>\n",
       "      <td>0.051658</td>\n",
       "      <td>0.042947</td>\n",
       "      <td>0.148506</td>\n",
       "      <td>-0.196648</td>\n",
       "      <td>1.000000</td>\n",
       "      <td>0.093595</td>\n",
       "      <td>0.251397</td>\n",
       "    </tr>\n",
       "    <tr>\n",
       "      <th>alcohol</th>\n",
       "      <td>-0.061668</td>\n",
       "      <td>-0.202288</td>\n",
       "      <td>0.109903</td>\n",
       "      <td>0.042075</td>\n",
       "      <td>-0.221141</td>\n",
       "      <td>-0.069408</td>\n",
       "      <td>-0.205654</td>\n",
       "      <td>-0.496180</td>\n",
       "      <td>0.205633</td>\n",
       "      <td>0.093595</td>\n",
       "      <td>1.000000</td>\n",
       "      <td>0.476166</td>\n",
       "    </tr>\n",
       "    <tr>\n",
       "      <th>quality</th>\n",
       "      <td>0.124052</td>\n",
       "      <td>-0.390558</td>\n",
       "      <td>0.226373</td>\n",
       "      <td>0.013732</td>\n",
       "      <td>-0.128907</td>\n",
       "      <td>-0.050656</td>\n",
       "      <td>-0.185100</td>\n",
       "      <td>-0.174919</td>\n",
       "      <td>-0.057731</td>\n",
       "      <td>0.251397</td>\n",
       "      <td>0.476166</td>\n",
       "      <td>1.000000</td>\n",
       "    </tr>\n",
       "  </tbody>\n",
       "</table>\n",
       "</div>"
      ],
      "text/plain": [
       "                      fixed acidity  volatile acidity  citric acid  \\\n",
       "fixed acidity              1.000000         -0.256131     0.671703   \n",
       "volatile acidity          -0.256131          1.000000    -0.552496   \n",
       "citric acid                0.671703         -0.552496     1.000000   \n",
       "residual sugar             0.114777          0.001918     0.143577   \n",
       "chlorides                  0.093705          0.061298     0.203823   \n",
       "free sulfur dioxide       -0.153794         -0.010504    -0.060978   \n",
       "total sulfur dioxide      -0.113181          0.076470     0.035533   \n",
       "density                    0.668047          0.022026     0.364947   \n",
       "pH                        -0.682978          0.234937    -0.541904   \n",
       "sulphates                  0.183006         -0.260987     0.312770   \n",
       "alcohol                   -0.061668         -0.202288     0.109903   \n",
       "quality                    0.124052         -0.390558     0.226373   \n",
       "\n",
       "                      residual sugar  chlorides  free sulfur dioxide  \\\n",
       "fixed acidity               0.114777   0.093705            -0.153794   \n",
       "volatile acidity            0.001918   0.061298            -0.010504   \n",
       "citric acid                 0.143577   0.203823            -0.060978   \n",
       "residual sugar              1.000000   0.055610             0.187049   \n",
       "chlorides                   0.055610   1.000000             0.005562   \n",
       "free sulfur dioxide         0.187049   0.005562             1.000000   \n",
       "total sulfur dioxide        0.203028   0.047400             0.667666   \n",
       "density                     0.355283   0.200632            -0.021946   \n",
       "pH                         -0.085652  -0.265026             0.070377   \n",
       "sulphates                   0.005527   0.371260             0.051658   \n",
       "alcohol                     0.042075  -0.221141            -0.069408   \n",
       "quality                     0.013732  -0.128907            -0.050656   \n",
       "\n",
       "                      total sulfur dioxide   density        pH  sulphates  \\\n",
       "fixed acidity                    -0.113181  0.668047 -0.682978   0.183006   \n",
       "volatile acidity                  0.076470  0.022026  0.234937  -0.260987   \n",
       "citric acid                       0.035533  0.364947 -0.541904   0.312770   \n",
       "residual sugar                    0.203028  0.355283 -0.085652   0.005527   \n",
       "chlorides                         0.047400  0.200632 -0.265026   0.371260   \n",
       "free sulfur dioxide               0.667666 -0.021946  0.070377   0.051658   \n",
       "total sulfur dioxide              1.000000  0.071269 -0.066495   0.042947   \n",
       "density                           0.071269  1.000000 -0.341699   0.148506   \n",
       "pH                               -0.066495 -0.341699  1.000000  -0.196648   \n",
       "sulphates                         0.042947  0.148506 -0.196648   1.000000   \n",
       "alcohol                          -0.205654 -0.496180  0.205633   0.093595   \n",
       "quality                          -0.185100 -0.174919 -0.057731   0.251397   \n",
       "\n",
       "                       alcohol   quality  \n",
       "fixed acidity        -0.061668  0.124052  \n",
       "volatile acidity     -0.202288 -0.390558  \n",
       "citric acid           0.109903  0.226373  \n",
       "residual sugar        0.042075  0.013732  \n",
       "chlorides            -0.221141 -0.128907  \n",
       "free sulfur dioxide  -0.069408 -0.050656  \n",
       "total sulfur dioxide -0.205654 -0.185100  \n",
       "density              -0.496180 -0.174919  \n",
       "pH                    0.205633 -0.057731  \n",
       "sulphates             0.093595  0.251397  \n",
       "alcohol               1.000000  0.476166  \n",
       "quality               0.476166  1.000000  "
      ]
     },
     "execution_count": 5,
     "metadata": {},
     "output_type": "execute_result"
    }
   ],
   "source": [
    "corr_matrix = data.corr()\n",
    "corr_matrix"
   ]
  },
  {
   "cell_type": "raw",
   "id": "6226e97d-3d86-41c5-b20b-5c334446417c",
   "metadata": {},
   "source": [
    "We can also plot this using a heatmap"
   ]
  },
  {
   "cell_type": "code",
   "execution_count": 6,
   "id": "c74a0e81-db22-4bb7-b5a3-0dbd9f672a87",
   "metadata": {},
   "outputs": [
    {
     "data": {
      "text/plain": [
       "<Axes: >"
      ]
     },
     "execution_count": 6,
     "metadata": {},
     "output_type": "execute_result"
    },
    {
     "data": {
      "image/png": "[encoded data removed]",
      "text/plain": [
       "<Figure size 700x500 with 2 Axes>"
      ]
     },
     "metadata": {},
     "output_type": "display_data"
    }
   ],
   "source": [
    "import seaborn as sns\n",
    "import matplotlib.pyplot as plt\n",
    "plt.figure(figsize=(7,5))\n",
    "sns.heatmap(corr_matrix,annot=True,cmap='YlGnBu')"
   ]
  },
  {
   "cell_type": "raw",
   "id": "3a5c1705-2e47-4831-b985-e51fbf426d23",
   "metadata": {},
   "source": [
    "The diagonal is to be ignored, as it signifies the correlation of one attribute to itself, \n",
    "which is, without exception, always 1 { highest possible value }.\n",
    "\n",
    "In this plot, the darker colours signify a higher correlation."
   ]
  },
  {
   "cell_type": "raw",
   "id": "c58a60de-9ea1-4155-b8a4-bc8dfa1dd268",
   "metadata": {},
   "source": [
    "Now that we have visualized the data and have improved our understanding about it,\n",
    "we can proceed to pre-process the data for fitting into the desired model."
   ]
  },
  {
   "cell_type": "code",
   "execution_count": 7,
   "id": "6d7858ed-6e1e-4f6a-a7eb-be6610e16c38",
   "metadata": {},
   "outputs": [],
   "source": [
    "features = data.columns[:-1].values         #all attributes except quality\n",
    "label = data.columns[-1]                    #quality"
   ]
  },
  {
   "cell_type": "raw",
   "id": "d84c00f2-c47c-4981-a502-b80ffcf306a0",
   "metadata": {},
   "source": [
    "It is good practice to split the available data into two parts, Train Set & Test Set\n",
    "This is to evaluate the model trained on the Train Set by testing it on the Test Set.\n",
    "Otherwise, a model tested on the data its been trained on will give exceptional results,\n",
    "but may fail provide acceptable results when unknown data is introduced.\n",
    "\n",
    "This tast has been made easier by Scikit-Learn, due to availability of:\n",
    "-> Random Sampling\n",
    "-> Stratified Sampling\n",
    "\n",
    "Random Sampling picks out Data Randomly, while Stratified Sampling picks out data which represents the Dataset as a whole.\n",
    "So, Stratified Sampling provides us with better data to train."
   ]
  },
  {
   "cell_type": "code",
   "execution_count": 8,
   "id": "568c4772-4782-4ffa-83e4-80e03cb7939a",
   "metadata": {},
   "outputs": [],
   "source": [
    "from sklearn.model_selection import StratifiedShuffleSplit\n",
    "split = StratifiedShuffleSplit(n_splits=1,test_size=0.2,random_state=42)\n",
    "for train_index,test_index in split.split(data,data['quality']):\n",
    "    train_set = data.loc[train_index]\n",
    "    test_set = data.loc[test_index]"
   ]
  },
  {
   "cell_type": "code",
   "execution_count": 9,
   "id": "b0516ff5-e6b3-4719-ba71-2781fdd3ec66",
   "metadata": {},
   "outputs": [
    {
     "data": {
      "text/html": [
       "<div>\n",
       "<style scoped>\n",
       "    .dataframe tbody tr th:only-of-type {\n",
       "        vertical-align: middle;\n",
       "    }\n",
       "\n",
       "    .dataframe tbody tr th {\n",
       "        vertical-align: top;\n",
       "    }\n",
       "\n",
       "    .dataframe thead th {\n",
       "        text-align: right;\n",
       "    }\n",
       "</style>\n",
       "<table border=\"1\" class=\"dataframe\">\n",
       "  <thead>\n",
       "    <tr style=\"text-align: right;\">\n",
       "      <th></th>\n",
       "      <th>fixed acidity</th>\n",
       "      <th>volatile acidity</th>\n",
       "      <th>citric acid</th>\n",
       "      <th>residual sugar</th>\n",
       "      <th>chlorides</th>\n",
       "      <th>free sulfur dioxide</th>\n",
       "      <th>total sulfur dioxide</th>\n",
       "      <th>density</th>\n",
       "      <th>pH</th>\n",
       "      <th>sulphates</th>\n",
       "      <th>alcohol</th>\n",
       "      <th>quality</th>\n",
       "    </tr>\n",
       "  </thead>\n",
       "  <tbody>\n",
       "    <tr>\n",
       "      <th>1542</th>\n",
       "      <td>6.7</td>\n",
       "      <td>0.855</td>\n",
       "      <td>0.02</td>\n",
       "      <td>1.90</td>\n",
       "      <td>0.064</td>\n",
       "      <td>29.0</td>\n",
       "      <td>38.0</td>\n",
       "      <td>0.99472</td>\n",
       "      <td>3.30</td>\n",
       "      <td>0.56</td>\n",
       "      <td>10.75</td>\n",
       "      <td>6</td>\n",
       "    </tr>\n",
       "    <tr>\n",
       "      <th>1558</th>\n",
       "      <td>6.9</td>\n",
       "      <td>0.630</td>\n",
       "      <td>0.33</td>\n",
       "      <td>6.70</td>\n",
       "      <td>0.235</td>\n",
       "      <td>66.0</td>\n",
       "      <td>115.0</td>\n",
       "      <td>0.99787</td>\n",
       "      <td>3.22</td>\n",
       "      <td>0.56</td>\n",
       "      <td>9.50</td>\n",
       "      <td>5</td>\n",
       "    </tr>\n",
       "    <tr>\n",
       "      <th>344</th>\n",
       "      <td>11.9</td>\n",
       "      <td>0.570</td>\n",
       "      <td>0.50</td>\n",
       "      <td>2.60</td>\n",
       "      <td>0.082</td>\n",
       "      <td>6.0</td>\n",
       "      <td>32.0</td>\n",
       "      <td>1.00060</td>\n",
       "      <td>3.12</td>\n",
       "      <td>0.78</td>\n",
       "      <td>10.70</td>\n",
       "      <td>6</td>\n",
       "    </tr>\n",
       "    <tr>\n",
       "      <th>924</th>\n",
       "      <td>8.6</td>\n",
       "      <td>0.470</td>\n",
       "      <td>0.27</td>\n",
       "      <td>2.30</td>\n",
       "      <td>0.055</td>\n",
       "      <td>14.0</td>\n",
       "      <td>28.0</td>\n",
       "      <td>0.99516</td>\n",
       "      <td>3.18</td>\n",
       "      <td>0.80</td>\n",
       "      <td>11.20</td>\n",
       "      <td>5</td>\n",
       "    </tr>\n",
       "    <tr>\n",
       "      <th>971</th>\n",
       "      <td>10.4</td>\n",
       "      <td>0.260</td>\n",
       "      <td>0.48</td>\n",
       "      <td>1.90</td>\n",
       "      <td>0.066</td>\n",
       "      <td>6.0</td>\n",
       "      <td>10.0</td>\n",
       "      <td>0.99724</td>\n",
       "      <td>3.33</td>\n",
       "      <td>0.87</td>\n",
       "      <td>10.90</td>\n",
       "      <td>6</td>\n",
       "    </tr>\n",
       "    <tr>\n",
       "      <th>...</th>\n",
       "      <td>...</td>\n",
       "      <td>...</td>\n",
       "      <td>...</td>\n",
       "      <td>...</td>\n",
       "      <td>...</td>\n",
       "      <td>...</td>\n",
       "      <td>...</td>\n",
       "      <td>...</td>\n",
       "      <td>...</td>\n",
       "      <td>...</td>\n",
       "      <td>...</td>\n",
       "      <td>...</td>\n",
       "    </tr>\n",
       "    <tr>\n",
       "      <th>1056</th>\n",
       "      <td>8.9</td>\n",
       "      <td>0.480</td>\n",
       "      <td>0.53</td>\n",
       "      <td>4.00</td>\n",
       "      <td>0.101</td>\n",
       "      <td>3.0</td>\n",
       "      <td>10.0</td>\n",
       "      <td>0.99586</td>\n",
       "      <td>3.21</td>\n",
       "      <td>0.59</td>\n",
       "      <td>12.10</td>\n",
       "      <td>7</td>\n",
       "    </tr>\n",
       "    <tr>\n",
       "      <th>1394</th>\n",
       "      <td>6.4</td>\n",
       "      <td>0.570</td>\n",
       "      <td>0.14</td>\n",
       "      <td>3.90</td>\n",
       "      <td>0.070</td>\n",
       "      <td>27.0</td>\n",
       "      <td>73.0</td>\n",
       "      <td>0.99669</td>\n",
       "      <td>3.32</td>\n",
       "      <td>0.48</td>\n",
       "      <td>9.20</td>\n",
       "      <td>5</td>\n",
       "    </tr>\n",
       "    <tr>\n",
       "      <th>337</th>\n",
       "      <td>7.8</td>\n",
       "      <td>0.430</td>\n",
       "      <td>0.32</td>\n",
       "      <td>2.80</td>\n",
       "      <td>0.080</td>\n",
       "      <td>29.0</td>\n",
       "      <td>58.0</td>\n",
       "      <td>0.99740</td>\n",
       "      <td>3.31</td>\n",
       "      <td>0.64</td>\n",
       "      <td>10.30</td>\n",
       "      <td>5</td>\n",
       "    </tr>\n",
       "    <tr>\n",
       "      <th>539</th>\n",
       "      <td>11.2</td>\n",
       "      <td>0.500</td>\n",
       "      <td>0.74</td>\n",
       "      <td>5.15</td>\n",
       "      <td>0.100</td>\n",
       "      <td>5.0</td>\n",
       "      <td>17.0</td>\n",
       "      <td>0.99960</td>\n",
       "      <td>3.22</td>\n",
       "      <td>0.62</td>\n",
       "      <td>11.20</td>\n",
       "      <td>5</td>\n",
       "    </tr>\n",
       "    <tr>\n",
       "      <th>1083</th>\n",
       "      <td>8.7</td>\n",
       "      <td>0.420</td>\n",
       "      <td>0.45</td>\n",
       "      <td>2.40</td>\n",
       "      <td>0.072</td>\n",
       "      <td>32.0</td>\n",
       "      <td>59.0</td>\n",
       "      <td>0.99617</td>\n",
       "      <td>3.33</td>\n",
       "      <td>0.77</td>\n",
       "      <td>12.00</td>\n",
       "      <td>6</td>\n",
       "    </tr>\n",
       "  </tbody>\n",
       "</table>\n",
       "<p>1279 rows × 12 columns</p>\n",
       "</div>"
      ],
      "text/plain": [
       "      fixed acidity  volatile acidity  citric acid  residual sugar  chlorides  \\\n",
       "1542            6.7             0.855         0.02            1.90      0.064   \n",
       "1558            6.9             0.630         0.33            6.70      0.235   \n",
       "344            11.9             0.570         0.50            2.60      0.082   \n",
       "924             8.6             0.470         0.27            2.30      0.055   \n",
       "971            10.4             0.260         0.48            1.90      0.066   \n",
       "...             ...               ...          ...             ...        ...   \n",
       "1056            8.9             0.480         0.53            4.00      0.101   \n",
       "1394            6.4             0.570         0.14            3.90      0.070   \n",
       "337             7.8             0.430         0.32            2.80      0.080   \n",
       "539            11.2             0.500         0.74            5.15      0.100   \n",
       "1083            8.7             0.420         0.45            2.40      0.072   \n",
       "\n",
       "      free sulfur dioxide  total sulfur dioxide  density    pH  sulphates  \\\n",
       "1542                 29.0                  38.0  0.99472  3.30       0.56   \n",
       "1558                 66.0                 115.0  0.99787  3.22       0.56   \n",
       "344                   6.0                  32.0  1.00060  3.12       0.78   \n",
       "924                  14.0                  28.0  0.99516  3.18       0.80   \n",
       "971                   6.0                  10.0  0.99724  3.33       0.87   \n",
       "...                   ...                   ...      ...   ...        ...   \n",
       "1056                  3.0                  10.0  0.99586  3.21       0.59   \n",
       "1394                 27.0                  73.0  0.99669  3.32       0.48   \n",
       "337                  29.0                  58.0  0.99740  3.31       0.64   \n",
       "539                   5.0                  17.0  0.99960  3.22       0.62   \n",
       "1083                 32.0                  59.0  0.99617  3.33       0.77   \n",
       "\n",
       "      alcohol  quality  \n",
       "1542    10.75        6  \n",
       "1558     9.50        5  \n",
       "344     10.70        6  \n",
       "924     11.20        5  \n",
       "971     10.90        6  \n",
       "...       ...      ...  \n",
       "1056    12.10        7  \n",
       "1394     9.20        5  \n",
       "337     10.30        5  \n",
       "539     11.20        5  \n",
       "1083    12.00        6  \n",
       "\n",
       "[1279 rows x 12 columns]"
      ]
     },
     "execution_count": 9,
     "metadata": {},
     "output_type": "execute_result"
    }
   ],
   "source": [
    "train_set"
   ]
  },
  {
   "cell_type": "code",
   "execution_count": 10,
   "id": "d0bd40e8-26a3-414a-8f10-f44597007f70",
   "metadata": {},
   "outputs": [
    {
     "data": {
      "text/html": [
       "<div>\n",
       "<style scoped>\n",
       "    .dataframe tbody tr th:only-of-type {\n",
       "        vertical-align: middle;\n",
       "    }\n",
       "\n",
       "    .dataframe tbody tr th {\n",
       "        vertical-align: top;\n",
       "    }\n",
       "\n",
       "    .dataframe thead th {\n",
       "        text-align: right;\n",
       "    }\n",
       "</style>\n",
       "<table border=\"1\" class=\"dataframe\">\n",
       "  <thead>\n",
       "    <tr style=\"text-align: right;\">\n",
       "      <th></th>\n",
       "      <th>fixed acidity</th>\n",
       "      <th>volatile acidity</th>\n",
       "      <th>citric acid</th>\n",
       "      <th>residual sugar</th>\n",
       "      <th>chlorides</th>\n",
       "      <th>free sulfur dioxide</th>\n",
       "      <th>total sulfur dioxide</th>\n",
       "      <th>density</th>\n",
       "      <th>pH</th>\n",
       "      <th>sulphates</th>\n",
       "      <th>alcohol</th>\n",
       "      <th>quality</th>\n",
       "    </tr>\n",
       "  </thead>\n",
       "  <tbody>\n",
       "    <tr>\n",
       "      <th>963</th>\n",
       "      <td>8.8</td>\n",
       "      <td>0.27</td>\n",
       "      <td>0.39</td>\n",
       "      <td>2.0</td>\n",
       "      <td>0.100</td>\n",
       "      <td>20.0</td>\n",
       "      <td>27.0</td>\n",
       "      <td>0.99546</td>\n",
       "      <td>3.15</td>\n",
       "      <td>0.69</td>\n",
       "      <td>11.2</td>\n",
       "      <td>6</td>\n",
       "    </tr>\n",
       "    <tr>\n",
       "      <th>475</th>\n",
       "      <td>9.6</td>\n",
       "      <td>0.68</td>\n",
       "      <td>0.24</td>\n",
       "      <td>2.2</td>\n",
       "      <td>0.087</td>\n",
       "      <td>5.0</td>\n",
       "      <td>28.0</td>\n",
       "      <td>0.99880</td>\n",
       "      <td>3.14</td>\n",
       "      <td>0.60</td>\n",
       "      <td>10.2</td>\n",
       "      <td>5</td>\n",
       "    </tr>\n",
       "    <tr>\n",
       "      <th>1</th>\n",
       "      <td>7.8</td>\n",
       "      <td>0.88</td>\n",
       "      <td>0.00</td>\n",
       "      <td>2.6</td>\n",
       "      <td>0.098</td>\n",
       "      <td>25.0</td>\n",
       "      <td>67.0</td>\n",
       "      <td>0.99680</td>\n",
       "      <td>3.20</td>\n",
       "      <td>0.68</td>\n",
       "      <td>9.8</td>\n",
       "      <td>5</td>\n",
       "    </tr>\n",
       "    <tr>\n",
       "      <th>329</th>\n",
       "      <td>10.7</td>\n",
       "      <td>0.46</td>\n",
       "      <td>0.39</td>\n",
       "      <td>2.0</td>\n",
       "      <td>0.061</td>\n",
       "      <td>7.0</td>\n",
       "      <td>15.0</td>\n",
       "      <td>0.99810</td>\n",
       "      <td>3.18</td>\n",
       "      <td>0.62</td>\n",
       "      <td>9.5</td>\n",
       "      <td>5</td>\n",
       "    </tr>\n",
       "    <tr>\n",
       "      <th>149</th>\n",
       "      <td>8.2</td>\n",
       "      <td>0.40</td>\n",
       "      <td>0.44</td>\n",
       "      <td>2.8</td>\n",
       "      <td>0.089</td>\n",
       "      <td>11.0</td>\n",
       "      <td>43.0</td>\n",
       "      <td>0.99750</td>\n",
       "      <td>3.53</td>\n",
       "      <td>0.61</td>\n",
       "      <td>10.5</td>\n",
       "      <td>6</td>\n",
       "    </tr>\n",
       "    <tr>\n",
       "      <th>...</th>\n",
       "      <td>...</td>\n",
       "      <td>...</td>\n",
       "      <td>...</td>\n",
       "      <td>...</td>\n",
       "      <td>...</td>\n",
       "      <td>...</td>\n",
       "      <td>...</td>\n",
       "      <td>...</td>\n",
       "      <td>...</td>\n",
       "      <td>...</td>\n",
       "      <td>...</td>\n",
       "      <td>...</td>\n",
       "    </tr>\n",
       "    <tr>\n",
       "      <th>1173</th>\n",
       "      <td>7.6</td>\n",
       "      <td>0.36</td>\n",
       "      <td>0.31</td>\n",
       "      <td>1.7</td>\n",
       "      <td>0.079</td>\n",
       "      <td>26.0</td>\n",
       "      <td>65.0</td>\n",
       "      <td>0.99716</td>\n",
       "      <td>3.46</td>\n",
       "      <td>0.62</td>\n",
       "      <td>9.5</td>\n",
       "      <td>6</td>\n",
       "    </tr>\n",
       "    <tr>\n",
       "      <th>827</th>\n",
       "      <td>7.1</td>\n",
       "      <td>0.46</td>\n",
       "      <td>0.14</td>\n",
       "      <td>2.8</td>\n",
       "      <td>0.076</td>\n",
       "      <td>15.0</td>\n",
       "      <td>37.0</td>\n",
       "      <td>0.99624</td>\n",
       "      <td>3.36</td>\n",
       "      <td>0.49</td>\n",
       "      <td>10.7</td>\n",
       "      <td>5</td>\n",
       "    </tr>\n",
       "    <tr>\n",
       "      <th>356</th>\n",
       "      <td>11.5</td>\n",
       "      <td>0.41</td>\n",
       "      <td>0.52</td>\n",
       "      <td>3.0</td>\n",
       "      <td>0.080</td>\n",
       "      <td>29.0</td>\n",
       "      <td>55.0</td>\n",
       "      <td>1.00010</td>\n",
       "      <td>3.26</td>\n",
       "      <td>0.88</td>\n",
       "      <td>11.0</td>\n",
       "      <td>5</td>\n",
       "    </tr>\n",
       "    <tr>\n",
       "      <th>1287</th>\n",
       "      <td>8.0</td>\n",
       "      <td>0.60</td>\n",
       "      <td>0.08</td>\n",
       "      <td>2.6</td>\n",
       "      <td>0.056</td>\n",
       "      <td>3.0</td>\n",
       "      <td>7.0</td>\n",
       "      <td>0.99286</td>\n",
       "      <td>3.22</td>\n",
       "      <td>0.37</td>\n",
       "      <td>13.0</td>\n",
       "      <td>5</td>\n",
       "    </tr>\n",
       "    <tr>\n",
       "      <th>789</th>\n",
       "      <td>8.6</td>\n",
       "      <td>0.63</td>\n",
       "      <td>0.17</td>\n",
       "      <td>2.9</td>\n",
       "      <td>0.099</td>\n",
       "      <td>21.0</td>\n",
       "      <td>119.0</td>\n",
       "      <td>0.99800</td>\n",
       "      <td>3.09</td>\n",
       "      <td>0.52</td>\n",
       "      <td>9.3</td>\n",
       "      <td>5</td>\n",
       "    </tr>\n",
       "  </tbody>\n",
       "</table>\n",
       "<p>320 rows × 12 columns</p>\n",
       "</div>"
      ],
      "text/plain": [
       "      fixed acidity  volatile acidity  citric acid  residual sugar  chlorides  \\\n",
       "963             8.8              0.27         0.39             2.0      0.100   \n",
       "475             9.6              0.68         0.24             2.2      0.087   \n",
       "1               7.8              0.88         0.00             2.6      0.098   \n",
       "329            10.7              0.46         0.39             2.0      0.061   \n",
       "149             8.2              0.40         0.44             2.8      0.089   \n",
       "...             ...               ...          ...             ...        ...   \n",
       "1173            7.6              0.36         0.31             1.7      0.079   \n",
       "827             7.1              0.46         0.14             2.8      0.076   \n",
       "356            11.5              0.41         0.52             3.0      0.080   \n",
       "1287            8.0              0.60         0.08             2.6      0.056   \n",
       "789             8.6              0.63         0.17             2.9      0.099   \n",
       "\n",
       "      free sulfur dioxide  total sulfur dioxide  density    pH  sulphates  \\\n",
       "963                  20.0                  27.0  0.99546  3.15       0.69   \n",
       "475                   5.0                  28.0  0.99880  3.14       0.60   \n",
       "1                    25.0                  67.0  0.99680  3.20       0.68   \n",
       "329                   7.0                  15.0  0.99810  3.18       0.62   \n",
       "149                  11.0                  43.0  0.99750  3.53       0.61   \n",
       "...                   ...                   ...      ...   ...        ...   \n",
       "1173                 26.0                  65.0  0.99716  3.46       0.62   \n",
       "827                  15.0                  37.0  0.99624  3.36       0.49   \n",
       "356                  29.0                  55.0  1.00010  3.26       0.88   \n",
       "1287                  3.0                   7.0  0.99286  3.22       0.37   \n",
       "789                  21.0                 119.0  0.99800  3.09       0.52   \n",
       "\n",
       "      alcohol  quality  \n",
       "963      11.2        6  \n",
       "475      10.2        5  \n",
       "1         9.8        5  \n",
       "329       9.5        5  \n",
       "149      10.5        6  \n",
       "...       ...      ...  \n",
       "1173      9.5        6  \n",
       "827      10.7        5  \n",
       "356      11.0        5  \n",
       "1287     13.0        5  \n",
       "789       9.3        5  \n",
       "\n",
       "[320 rows x 12 columns]"
      ]
     },
     "execution_count": 10,
     "metadata": {},
     "output_type": "execute_result"
    }
   ],
   "source": [
    "test_set"
   ]
  },
  {
   "cell_type": "code",
   "execution_count": 11,
   "id": "110afd46-2484-4133-8ff7-8a006e3f175c",
   "metadata": {},
   "outputs": [],
   "source": [
    "wine_features_tr = train_set[features]\n",
    "wine_label_tr = train_set[\"quality\"]\n",
    "wine_features_te=test_set[features]\n",
    "wine_label_te=test_set[\"quality\"]"
   ]
  },
  {
   "cell_type": "raw",
   "id": "fc9da596-b747-4308-93f6-ee95f3b123fd",
   "metadata": {},
   "source": [
    "Next, we need to handle:\n",
    "-> Null values [ imputing / deletion ]\n",
    "-> Categorical values [ encoding ]\n",
    "\n",
    "Since our dataset doesnt have any categorical values, we dont have to worry about encoding."
   ]
  },
  {
   "cell_type": "raw",
   "id": "32b8397b-3883-4b6b-a887-ad537dac0224",
   "metadata": {},
   "source": [
    "For null values,\n",
    "all rows with null values can be dropped by using the dropna() function,\n",
    "But data is lost in that process.\n",
    "A better approach is the to fill in the null values using any parameter from the other values.\n",
    "\n",
    "This can be done using the SimpleImputer from sklearn library\n",
    "Lets first check no of null values"
   ]
  },
  {
   "cell_type": "code",
   "execution_count": 12,
   "id": "bf6ad68c-f828-4afd-8410-07d3b8b674bf",
   "metadata": {},
   "outputs": [
    {
     "data": {
      "text/plain": [
       "fixed acidity           0\n",
       "volatile acidity        0\n",
       "citric acid             0\n",
       "residual sugar          0\n",
       "chlorides               0\n",
       "free sulfur dioxide     0\n",
       "total sulfur dioxide    0\n",
       "density                 0\n",
       "pH                      0\n",
       "sulphates               0\n",
       "alcohol                 0\n",
       "dtype: int64"
      ]
     },
     "execution_count": 12,
     "metadata": {},
     "output_type": "execute_result"
    }
   ],
   "source": [
    "wine_features_tr.isna().sum()"
   ]
  },
  {
   "cell_type": "raw",
   "id": "32846fc3-7b1a-4c18-ba58-5801feb77d04",
   "metadata": {},
   "source": [
    "We have no null values, so we dont need Imputation either."
   ]
  },
  {
   "cell_type": "raw",
   "id": "27d35ab3-6de8-40ff-93d0-7df86b083134",
   "metadata": {},
   "source": [
    "As we see, all the attributes here are numeric values,\n",
    "so we can use either of these three:\n",
    "-> LinearRegressor\n",
    "-> DesicionTreeRegressor\n",
    "-> RandomForestRegressor"
   ]
  },
  {
   "cell_type": "raw",
   "id": "1a2934fe-ea80-4148-816e-6011530f729f",
   "metadata": {},
   "source": [
    "Lets start with LinearRegressor"
   ]
  },
  {
   "cell_type": "code",
   "execution_count": 13,
   "id": "2e48695f-3f34-4752-b44f-c4af52e4aecf",
   "metadata": {},
   "outputs": [
    {
     "data": {
      "text/plain": [
       "array([6.32922267, 5.46660305, 5.1572968 , 5.5688065 , 5.58138071,\n",
       "       6.03262132, 5.08478005, 4.4996503 , 5.51573986, 6.12624362,\n",
       "       5.13294042, 5.47274026, 5.23882231, 5.23447299, 5.4457214 ,\n",
       "       5.80529027, 5.24443432, 5.00866933, 6.5864237 , 6.08641721,\n",
       "       6.03212294, 5.78202105, 5.83143791, 5.35938226, 5.05522209,\n",
       "       5.52541505, 5.34617197, 5.48826587, 6.60415795, 5.22823928,\n",
       "       5.87448099, 5.337187  , 6.29414645, 5.79910105, 5.97181256,\n",
       "       5.32392074, 5.32076459, 6.12007723, 4.91697379, 5.9780407 ,\n",
       "       4.99184165, 5.11798898, 5.50741004, 6.47789429, 6.34880026,\n",
       "       5.52113666, 6.35516118, 5.9295155 , 5.44363406, 5.39063968,\n",
       "       5.06639384, 6.40676754, 5.15723593, 5.93563782, 6.0923704 ,\n",
       "       5.00420671, 5.01670795, 5.14684463, 5.46842186, 5.46475082,\n",
       "       5.4149858 , 5.99980307, 5.38612728, 5.93670629, 6.21774091,\n",
       "       5.42973318, 5.93922809, 5.42879083, 5.03596587, 5.69424338,\n",
       "       6.22102553, 5.17240727, 5.67461424, 5.80940751, 5.20339628,\n",
       "       6.04314157, 5.6944099 , 5.94002034, 5.02275907, 6.00783492,\n",
       "       5.50288513, 5.61776048, 5.70449731, 5.18933431, 4.89542771,\n",
       "       5.13927392, 5.37291913, 5.29283133, 6.741597  , 5.49011852,\n",
       "       5.31546021, 5.27965006, 5.64205928, 6.9233452 , 5.42661408,\n",
       "       5.86596115, 4.92318478, 5.22794257, 6.16990227, 4.92510602,\n",
       "       6.45727047, 6.19164181, 6.19880102, 6.19988056, 5.8089154 ,\n",
       "       6.36287705, 5.91774623, 6.08340607, 6.51102548, 6.03517165,\n",
       "       5.13258547, 5.2487853 , 5.25044838, 5.33481883, 5.78505715,\n",
       "       5.75572629, 5.2273458 , 5.21305364, 6.35516118, 6.10715405,\n",
       "       6.38478885, 5.19731595, 6.12693509, 5.96089635, 5.70645191,\n",
       "       5.9316095 , 5.92777718, 5.0500635 , 5.14323594, 6.2314931 ,\n",
       "       6.00276765, 5.5370209 , 4.73241012, 5.67879703, 6.17866859,\n",
       "       6.29414645, 5.1417121 , 6.04066333, 4.59771064, 6.2583191 ,\n",
       "       5.03393208, 5.3343219 , 5.34905505, 5.15614103, 4.84024259,\n",
       "       6.24755999, 5.2313332 , 6.03403867, 5.53029969, 5.69786056,\n",
       "       5.89057799, 5.05686756, 5.06886197, 4.82395697, 5.45823316,\n",
       "       5.18186828, 5.12723153, 4.96567289, 6.2216525 , 6.29723548,\n",
       "       5.8535305 , 5.00480526, 5.56120841, 6.29840662, 5.17061   ,\n",
       "       6.35533587, 5.69960638, 6.00630862, 5.14187862, 5.78922037,\n",
       "       5.97313636, 5.31518246, 5.30927815, 6.4075138 , 6.9525867 ,\n",
       "       5.26805146, 5.75367651, 5.28589675, 5.67837007, 6.60001512,\n",
       "       5.57741169, 4.96312471, 5.99089229, 5.37286306, 5.37173079,\n",
       "       5.75779603, 6.02555038, 4.9760125 , 5.46423039, 5.67178098,\n",
       "       6.09379253, 5.10858798, 5.32680674, 5.11562722, 5.92901382,\n",
       "       6.38054345, 6.37548313, 5.22935395, 4.88345135, 5.50073284,\n",
       "       6.31665279, 5.30152965, 5.29223583, 4.97985461, 5.7713188 ,\n",
       "       5.4972377 , 5.362902  , 5.70273472, 6.49624636, 5.98092583,\n",
       "       5.36800443, 5.78164128, 5.02275907, 5.65822505, 6.42701669,\n",
       "       5.43256692, 6.11988775, 5.83018315, 5.77600717, 6.06139467,\n",
       "       6.02058756, 5.67232135, 5.44920694, 4.98855493, 4.92960265,\n",
       "       6.17629877, 5.75572629, 6.02344507, 6.5864237 , 5.60562418,\n",
       "       5.77369916, 5.40043274, 5.79457703, 6.18285543, 5.30277283,\n",
       "       5.89910612, 5.2742837 , 6.14243028, 5.74266313, 5.52365247,\n",
       "       5.55407538, 5.12988101, 5.38659488, 6.04768967, 5.1186386 ,\n",
       "       5.58344447, 6.47744101, 6.26384766, 5.72134582, 6.11797126,\n",
       "       5.42668873, 5.33973841, 4.82683796, 5.2668879 , 5.72198966,\n",
       "       5.46660305, 5.20907819, 5.39514563, 5.05065068, 5.67943446,\n",
       "       5.44028485, 5.72756533, 6.18493254, 4.933566  , 6.51606728,\n",
       "       5.96587438, 5.18773018, 5.8564102 , 4.63205822, 6.11767705,\n",
       "       5.14053459, 5.44660467, 4.80313324, 6.02147879, 5.07904335,\n",
       "       6.71855541, 5.73230137, 4.83393384, 5.93922809, 5.29581816,\n",
       "       5.84255815, 5.3534057 , 5.29406337, 5.66982931, 6.16319229,\n",
       "       5.82810736, 5.83398351, 5.34194927, 5.43673221, 5.43067462,\n",
       "       5.90403184, 6.38478885, 5.67135789, 5.46364921, 5.04065991,\n",
       "       5.39389289, 5.73661926, 5.21232179, 5.20972972, 6.60203419,\n",
       "       5.2303544 , 5.72699582, 5.16708345, 5.60304828, 5.85757349,\n",
       "       5.57249085, 5.50854071, 5.38430579, 5.86251156, 6.40980961,\n",
       "       5.43804816, 5.39434265, 5.27138491, 5.45811079, 5.31057753,\n",
       "       5.41993909, 5.70312574, 6.15126939, 6.31773972, 4.96557987])"
      ]
     },
     "execution_count": 13,
     "metadata": {},
     "output_type": "execute_result"
    }
   ],
   "source": [
    "from sklearn.linear_model import LinearRegression\n",
    "lin_reg = LinearRegression()\n",
    "lin_reg.fit(wine_features_tr,wine_label_tr)\n",
    "lin_pred = lin_reg.predict(wine_features_te)\n",
    "lin_pred"
   ]
  },
  {
   "cell_type": "raw",
   "id": "20e7c32e-0a47-436d-a342-b91efcbf67ac",
   "metadata": {},
   "source": [
    "Just looking at the prediction doesnt give us much info about the performance of the model.\n",
    "We can check the performance by using:\n",
    "-> Mean Absolute Error\n",
    "-> Mean Squared Error\n",
    "\n",
    "We can apply these to compare predicted values to actual values between train and test set,\n",
    "or we can cross validate."
   ]
  },
  {
   "cell_type": "code",
   "execution_count": 14,
   "id": "a647ad43-51c4-4e31-858c-ad61dad81a64",
   "metadata": {},
   "outputs": [
    {
     "data": {
      "text/plain": [
       "0.40636065372564334"
      ]
     },
     "execution_count": 14,
     "metadata": {},
     "output_type": "execute_result"
    }
   ],
   "source": [
    "from sklearn.metrics import mean_squared_error\n",
    "from sklearn.metrics import mean_absolute_error\n",
    "mean_squared_error(wine_label_te,lin_pred)"
   ]
  },
  {
   "cell_type": "code",
   "execution_count": 15,
   "id": "b955eadf-4878-46b6-9c92-9ee3bb58003e",
   "metadata": {},
   "outputs": [
    {
     "data": {
      "text/plain": [
       "0.4206571060060278"
      ]
     },
     "execution_count": 15,
     "metadata": {},
     "output_type": "execute_result"
    }
   ],
   "source": [
    "mean_squared_error(wine_label_tr,lin_reg.predict(wine_features_tr))"
   ]
  },
  {
   "cell_type": "raw",
   "id": "6629189e-8805-4195-8ad7-dafa1eec4822",
   "metadata": {},
   "source": [
    "Not much deviation between MSE of training and testing data signifies that there hasn't been overfitting.\n",
    "Lets Try out a different model : DesicionTreeRegressor"
   ]
  },
  {
   "cell_type": "code",
   "execution_count": 16,
   "id": "68663658-694a-4f48-981e-3173c595ab46",
   "metadata": {},
   "outputs": [
    {
     "data": {
      "text/plain": [
       "0.525"
      ]
     },
     "execution_count": 16,
     "metadata": {},
     "output_type": "execute_result"
    }
   ],
   "source": [
    "from sklearn.tree import DecisionTreeRegressor\n",
    "tree_reg = DecisionTreeRegressor()\n",
    "tree_reg.fit(wine_features_tr,wine_label_tr)\n",
    "tree_pred = tree_reg.predict(wine_features_te)\n",
    "mean_squared_error(wine_label_te,tree_pred)"
   ]
  },
  {
   "cell_type": "raw",
   "id": "7f74a459-c914-401f-a87d-f6fd47934883",
   "metadata": {},
   "source": [
    "Thats high! What could've been the reason?"
   ]
  },
  {
   "cell_type": "code",
   "execution_count": 17,
   "id": "e4d9f794-8fa3-4d23-bf9b-5452b45ab660",
   "metadata": {},
   "outputs": [
    {
     "data": {
      "text/plain": [
       "0.0"
      ]
     },
     "execution_count": 17,
     "metadata": {},
     "output_type": "execute_result"
    }
   ],
   "source": [
    "mean_squared_error(wine_label_tr,tree_reg.predict(wine_features_tr))"
   ]
  },
  {
   "cell_type": "raw",
   "id": "bf70582f-8636-4b50-973f-b38104d8eca2",
   "metadata": {},
   "source": [
    "As we can see, the MSE for training data is 0.\n",
    "Which means, the model has been overfitted with data.\n",
    "There are two possible measures in this scenario:\n",
    "-> Try another model\n",
    "-> Change the parameters { currently set to default }\n",
    "\n",
    "We will try the first option first.\n",
    "Lets use an ensemble model { model built upon another model } called he RandomForestRegressor"
   ]
  },
  {
   "cell_type": "code",
   "execution_count": 18,
   "id": "c41a9dc5-44f8-46bd-b7cd-599da8ed556d",
   "metadata": {},
   "outputs": [
    {
     "data": {
      "text/plain": [
       "0.313476875"
      ]
     },
     "execution_count": 18,
     "metadata": {},
     "output_type": "execute_result"
    }
   ],
   "source": [
    "from sklearn.ensemble import RandomForestRegressor\n",
    "forest_reg = RandomForestRegressor()\n",
    "forest_reg.fit(wine_features_tr,wine_label_tr)\n",
    "forest_pred = forest_reg.predict(wine_features_te)\n",
    "mean_squared_error(wine_label_te,forest_pred)"
   ]
  },
  {
   "cell_type": "raw",
   "id": "32a0ecec-3681-4a19-ab2c-72ad2a3ccd07",
   "metadata": {},
   "source": [
    "Thats a huge improvement in MSE {-0.8}! The previous best was 0.41.\n",
    "Lets check for overfitting, even if its unlikely given the better prediction outcome."
   ]
  },
  {
   "cell_type": "code",
   "execution_count": 19,
   "id": "936b91c7-73de-494b-a2bd-e210408ec5d6",
   "metadata": {},
   "outputs": [
    {
     "data": {
      "text/plain": [
       "0.04792220484753714"
      ]
     },
     "execution_count": 19,
     "metadata": {},
     "output_type": "execute_result"
    }
   ],
   "source": [
    "mean_squared_error(wine_label_tr,forest_reg.predict(wine_features_tr))"
   ]
  },
  {
   "cell_type": "raw",
   "id": "50ee14ef-d4ef-41ea-b77c-4257750195e1",
   "metadata": {},
   "source": [
    "A very low error!\n",
    "Does this mean slight overfitting is present?\n",
    "We can try out changing parameters, but before that,\n",
    "Is there a better method to compute the errors?\n",
    "\n",
    "We can use cross validation for determining the performance of each of the model over the entire dataset."
   ]
  },
  {
   "cell_type": "code",
   "execution_count": 20,
   "id": "4b8aa658-17d5-483f-84e0-8000140868b9",
   "metadata": {},
   "outputs": [],
   "source": [
    "from sklearn.model_selection import cross_val_score\n",
    "def display_scores(scores):\n",
    "    print(\"Scores: \",scores)\n",
    "    print(\"Mean: \",scores.mean())\n",
    "    print(\"Std. Deviation: \",scores.std())\n",
    "#score = cross_val_score(model_name,feature_names,label_name,scoring_criteria,cv=x)"
   ]
  },
  {
   "cell_type": "code",
   "execution_count": 21,
   "id": "ad24c843-b0e9-4e55-9bef-984ead4bd1d0",
   "metadata": {},
   "outputs": [
    {
     "name": "stdout",
     "output_type": "stream",
     "text": [
      "Scores:  [0.56364537 0.4429824  0.38302744 0.40166681 0.29687635 0.37322622\n",
      " 0.33184855 0.50182048 0.51661311 0.50468542]\n",
      "Mean:  0.4316392172121962\n",
      "Std. Deviation:  0.08356359730413934\n"
     ]
    }
   ],
   "source": [
    "display_scores(-cross_val_score(lin_reg,wine_features_tr,wine_label_tr,scoring = \"neg_mean_squared_error\",cv=10))"
   ]
  },
  {
   "cell_type": "code",
   "execution_count": 22,
   "id": "600e05e5-114a-44bb-a66b-06926a80d43f",
   "metadata": {},
   "outputs": [
    {
     "name": "stdout",
     "output_type": "stream",
     "text": [
      "Scores:  [0.6015625  0.7734375  0.578125   0.5        0.40625    0.5390625\n",
      " 0.5859375  0.7265625  0.90625    0.99212598]\n",
      "Mean:  0.6609313484251969\n",
      "Std. Deviation:  0.17562896770541517\n"
     ]
    }
   ],
   "source": [
    "display_scores(-cross_val_score(tree_reg,wine_features_tr,wine_label_tr,scoring = \"neg_mean_squared_error\",cv=10))"
   ]
  },
  {
   "cell_type": "code",
   "execution_count": 23,
   "id": "f1e600a5-c768-4825-9d41-32b4e528839e",
   "metadata": {},
   "outputs": [
    {
     "name": "stdout",
     "output_type": "stream",
     "text": [
      "Scores:  [0.37238125 0.42345078 0.29483516 0.31587187 0.21850781 0.28528594\n",
      " 0.27634687 0.39193906 0.43688203 0.45211732]\n",
      "Mean:  0.34676181040846454\n",
      "Std. Deviation:  0.07525767457405454\n"
     ]
    }
   ],
   "source": [
    "display_scores(-cross_val_score(forest_reg,wine_features_tr,wine_label_tr,scoring = \"neg_mean_squared_error\",cv=10))"
   ]
  },
  {
   "cell_type": "raw",
   "id": "f1bee3bc-97ef-41b4-a5f3-e49229dee55f",
   "metadata": {},
   "source": [
    "By a significant margin, The RandomForestRegressor is performing the best.\n",
    "Few parameters of RandomForestRegressor are\n",
    "-> n_estimators\n",
    "-> max_depth\n",
    "-> min_samples_split\n",
    "-> min_samples_leaf\n",
    "-> random_state"
   ]
  },
  {
   "cell_type": "raw",
   "id": "60a7ade1-44d5-41c3-94b7-b6bf477a5f87",
   "metadata": {},
   "source": [
    "Now, to imrove the performance, we should try changing some parameters to check for better results.\n",
    "But this task is difficult to do by man.\n",
    "So, Scikit-Learn has a feature \"GridSearchCV\" which helps us with this"
   ]
  },
  {
   "cell_type": "code",
   "execution_count": 35,
   "id": "49f35dc8-488e-438a-8408-b247324a3ad9",
   "metadata": {},
   "outputs": [
    {
     "data": {
      "text/plain": [
       "{'max_depth': None, 'min_samples_split': 2, 'n_estimators': 200}"
      ]
     },
     "execution_count": 35,
     "metadata": {},
     "output_type": "execute_result"
    }
   ],
   "source": [
    "from sklearn.model_selection import GridSearchCV\n",
    "param_grid = [\n",
    "    {'n_estimators':[100,150,200],'max_depth':[None,15],'min_samples_split':[2,15]}\n",
    "]\n",
    "grid_search = GridSearchCV(forest_reg, param_grid, cv = 5, scoring = \"neg_mean_squared_error\",return_train_score=True)\n",
    "grid_search.fit(wine_features_tr,wine_label_tr)\n",
    "grid_search.best_params_"
   ]
  },
  {
   "cell_type": "raw",
   "id": "b279d61e-a5e8-4e66-b48e-3f613dc91bfa",
   "metadata": {},
   "source": [
    "This tries out a total of 36 models so it consumes significant amount of time\n",
    "\n",
    "As it says, the best possible combination has been obtained.\n",
    "Lets fit it into our model."
   ]
  },
  {
   "cell_type": "code",
   "execution_count": 36,
   "id": "e6f14c7d-beef-4b82-a368-dd40ed9342b5",
   "metadata": {},
   "outputs": [
    {
     "name": "stdout",
     "output_type": "stream",
     "text": [
      "Scores:  [0.37311992 0.42218809 0.29633906 0.31189609 0.22666289 0.29860723\n",
      " 0.26686172 0.38628965 0.43643574 0.45554449]\n",
      "Mean:  0.3473944878813977\n",
      "Std. Deviation:  0.07396087892108175\n"
     ]
    }
   ],
   "source": [
    "forest_reg2 = RandomForestRegressor(max_depth=None, min_samples_split=2, n_estimators=200)\n",
    "display_scores(-cross_val_score(forest_reg2,wine_features_tr,wine_label_tr,scoring = \"neg_mean_squared_error\",cv=10))"
   ]
  },
  {
   "cell_type": "raw",
   "id": "c2fb0f5e-b468-4fd6-8b69-5dffa52bccb7",
   "metadata": {},
   "source": [
    "As we can see, even with parameters, the error is approximately the same.\n",
    "Thus we go ahead with the no parameter model to save computational time."
   ]
  },
  {
   "cell_type": "raw",
   "id": "1ac647c8-9d3c-43d5-a4b1-2284b915fac6",
   "metadata": {},
   "source": [
    "Now then, what is the accuracy of our model?\n",
    "Lets check."
   ]
  },
  {
   "cell_type": "code",
   "execution_count": 43,
   "id": "4e9723dc-6e38-4c4c-a543-6d7faae8bb4c",
   "metadata": {},
   "outputs": [
    {
     "data": {
      "text/plain": [
       "0.9383794596067634"
      ]
     },
     "execution_count": 43,
     "metadata": {},
     "output_type": "execute_result"
    }
   ],
   "source": [
    "errate = (-cross_val_score(forest_reg,wine_features_tr,wine_label_tr,scoring = \"neg_mean_squared_error\",cv=10)).mean() / wine_label_tr.mean()\n",
    "1-errate"
   ]
  },
  {
   "cell_type": "raw",
   "id": "3d56eb82-e545-4878-a549-b37a35d5da6d",
   "metadata": {},
   "source": [
    "Thus, the accuracy of the model would be,\n",
    "1-errate ~ 0.94 = 94%"
   ]
  },
  {
   "cell_type": "raw",
   "id": "359432ac-7b9d-495d-9518-2f1fdeb347fd",
   "metadata": {},
   "source": [
    "Now that we have created and tested the model, lets create the input function"
   ]
  },
  {
   "cell_type": "code",
   "execution_count": null,
   "id": "47b63324-c090-44eb-adfd-5a23b943a905",
   "metadata": {},
   "outputs": [
    {
     "name": "stdout",
     "output_type": "stream",
     "text": [
      "Do you want to make predictions? (Y/N)\n"
     ]
    },
    {
     "name": "stdin",
     "output_type": "stream",
     "text": [
      " Y\n",
      "Enter value of fixed acidity:  7.4\n",
      "Enter value of volatile acidity:  0.7\n",
      "Enter value of citric acid:  0\n",
      "Enter value of residual sugar:  1.9\n",
      "Enter value of chlorides:  0.076\n"
     ]
    }
   ],
   "source": [
    "lst=[i for i in train_set.columns[:-1].values]\n",
    "while True:\n",
    "    print(\"Do you want to make predictions? (Y/N)\")\n",
    "    a = input()\n",
    "    if a==\"N\":\n",
    "        break\n",
    "    elif a!=\"Y\" and a!=\"N\":\n",
    "        print(\"Wrong input\")\n",
    "    elif a==\"Y\":\n",
    "        val = []\n",
    "        for i in range(11):\n",
    "            val.append(float(input(f\"Enter value of {lst[i]}: \")))\n",
    "        df = pd.DataFrame([val], columns=lst)\n",
    "        pred = forest_reg.predict(df)\n",
    "        print(pred)"
   ]
  }
 ],
 "metadata": {
  "kernelspec": {
   "display_name": "Python 3 (ipykernel)",
   "language": "python",
   "name": "python3"
  },
  "language_info": {
   "codemirror_mode": {
    "name": "ipython",
    "version": 3
   },
   "file_extension": ".py",
   "mimetype": "text/x-python",
   "name": "python",
   "nbconvert_exporter": "python",
   "pygments_lexer": "ipython3",
   "version": "3.11.7"
  }
 },
 "nbformat": 4,
 "nbformat_minor": 5
}
